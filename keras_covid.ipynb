{
  "nbformat": 4,
  "nbformat_minor": 0,
  "metadata": {
    "colab": {
      "name": "keras_covid.ipynb",
      "provenance": [],
      "collapsed_sections": [],
      "mount_file_id": "1pUr-fVKonQ1PVSHeEJsn8umtq4gt20XQ",
      "authorship_tag": "ABX9TyM4AHZGf6QPMiHmECjIraF/",
      "include_colab_link": true
    },
    "kernelspec": {
      "name": "python3",
      "display_name": "Python 3"
    },
    "accelerator": "GPU"
  },
  "cells": [
    {
      "cell_type": "markdown",
      "metadata": {
        "id": "view-in-github",
        "colab_type": "text"
      },
      "source": [
        "<a href=\"https://colab.research.google.com/github/hash002/hello-world/blob/master/keras_covid.ipynb\" target=\"_parent\"><img src=\"https://colab.research.google.com/assets/colab-badge.svg\" alt=\"Open In Colab\"/></a>"
      ]
    },
    {
      "cell_type": "code",
      "metadata": {
        "id": "pGtpPABwBb3u",
        "outputId": "b3f00f20-feca-4b7a-f911-0aeed64578c4",
        "colab": {
          "base_uri": "https://localhost:8080/"
        }
      },
      "source": [
        "!git clone https://github.com/ieee8023/covid-chestxray-dataset.git"
      ],
      "execution_count": 1,
      "outputs": [
        {
          "output_type": "stream",
          "text": [
            "Cloning into 'covid-chestxray-dataset'...\n",
            "remote: Enumerating objects: 15, done.\u001b[K\n",
            "remote: Counting objects: 100% (15/15), done.\u001b[K\n",
            "remote: Compressing objects: 100% (10/10), done.\u001b[K\n",
            "remote: Total 3614 (delta 7), reused 11 (delta 5), pack-reused 3599\u001b[K\n",
            "Receiving objects: 100% (3614/3614), 633.00 MiB | 15.40 MiB/s, done.\n",
            "Resolving deltas: 100% (1431/1431), done.\n",
            "Checking out files: 100% (1173/1173), done.\n"
          ],
          "name": "stdout"
        }
      ]
    },
    {
      "cell_type": "code",
      "metadata": {
        "id": "ahMGqF7qDDnS",
        "outputId": "d35cfc3a-a09f-4d51-f82f-9b1d8b440567",
        "colab": {
          "base_uri": "https://localhost:8080/"
        }
      },
      "source": [
        "cd /content/drive/My Drive/keras-covid-19"
      ],
      "execution_count": 5,
      "outputs": [
        {
          "output_type": "stream",
          "text": [
            "/content/drive/My Drive/keras-covid-19\n"
          ],
          "name": "stdout"
        }
      ]
    },
    {
      "cell_type": "code",
      "metadata": {
        "id": "d6UAkBZbZBDU",
        "outputId": "db098a6c-ef42-4d15-9773-771ee0d157e1",
        "colab": {
          "base_uri": "https://localhost:8080/"
        }
      },
      "source": [
        ""
      ],
      "execution_count": 6,
      "outputs": [
        {
          "output_type": "stream",
          "text": [
            "/content/drive/My Drive/keras-covid-19\n"
          ],
          "name": "stdout"
        }
      ]
    },
    {
      "cell_type": "code",
      "metadata": {
        "id": "yDZUani4ZiPy",
        "outputId": "c36dccf5-ca2b-4dec-fdb2-e9e1e3ff8f11",
        "colab": {
          "base_uri": "https://localhost:8080/"
        }
      },
      "source": [
        "!python train_covid19.py --dataset dataset"
      ],
      "execution_count": 8,
      "outputs": [
        {
          "output_type": "stream",
          "text": [
            "2020-11-12 07:41:02.098757: I tensorflow/stream_executor/platform/default/dso_loader.cc:48] Successfully opened dynamic library libcudart.so.10.1\n",
            "[INFO] loading images...\n",
            "2020-11-12 07:42:09.152183: I tensorflow/stream_executor/platform/default/dso_loader.cc:48] Successfully opened dynamic library libcuda.so.1\n",
            "2020-11-12 07:42:09.200403: I tensorflow/stream_executor/cuda/cuda_gpu_executor.cc:982] successful NUMA node read from SysFS had negative value (-1), but there must be at least one NUMA node, so returning NUMA node zero\n",
            "2020-11-12 07:42:09.201064: I tensorflow/core/common_runtime/gpu/gpu_device.cc:1716] Found device 0 with properties: \n",
            "pciBusID: 0000:00:04.0 name: Tesla P4 computeCapability: 6.1\n",
            "coreClock: 1.1135GHz coreCount: 20 deviceMemorySize: 7.43GiB deviceMemoryBandwidth: 178.99GiB/s\n",
            "2020-11-12 07:42:09.201122: I tensorflow/stream_executor/platform/default/dso_loader.cc:48] Successfully opened dynamic library libcudart.so.10.1\n",
            "2020-11-12 07:42:09.443666: I tensorflow/stream_executor/platform/default/dso_loader.cc:48] Successfully opened dynamic library libcublas.so.10\n",
            "2020-11-12 07:42:09.567791: I tensorflow/stream_executor/platform/default/dso_loader.cc:48] Successfully opened dynamic library libcufft.so.10\n",
            "2020-11-12 07:42:09.609502: I tensorflow/stream_executor/platform/default/dso_loader.cc:48] Successfully opened dynamic library libcurand.so.10\n",
            "2020-11-12 07:42:09.868619: I tensorflow/stream_executor/platform/default/dso_loader.cc:48] Successfully opened dynamic library libcusolver.so.10\n",
            "2020-11-12 07:42:09.905916: I tensorflow/stream_executor/platform/default/dso_loader.cc:48] Successfully opened dynamic library libcusparse.so.10\n",
            "2020-11-12 07:42:10.399196: I tensorflow/stream_executor/platform/default/dso_loader.cc:48] Successfully opened dynamic library libcudnn.so.7\n",
            "2020-11-12 07:42:10.399415: I tensorflow/stream_executor/cuda/cuda_gpu_executor.cc:982] successful NUMA node read from SysFS had negative value (-1), but there must be at least one NUMA node, so returning NUMA node zero\n",
            "2020-11-12 07:42:10.400220: I tensorflow/stream_executor/cuda/cuda_gpu_executor.cc:982] successful NUMA node read from SysFS had negative value (-1), but there must be at least one NUMA node, so returning NUMA node zero\n",
            "2020-11-12 07:42:10.400799: I tensorflow/core/common_runtime/gpu/gpu_device.cc:1858] Adding visible gpu devices: 0\n",
            "2020-11-12 07:42:10.414635: I tensorflow/core/platform/profile_utils/cpu_utils.cc:104] CPU Frequency: 2200000000 Hz\n",
            "2020-11-12 07:42:10.414841: I tensorflow/compiler/xla/service/service.cc:168] XLA service 0x13a3640 initialized for platform Host (this does not guarantee that XLA will be used). Devices:\n",
            "2020-11-12 07:42:10.414870: I tensorflow/compiler/xla/service/service.cc:176]   StreamExecutor device (0): Host, Default Version\n",
            "2020-11-12 07:42:10.552742: I tensorflow/stream_executor/cuda/cuda_gpu_executor.cc:982] successful NUMA node read from SysFS had negative value (-1), but there must be at least one NUMA node, so returning NUMA node zero\n",
            "2020-11-12 07:42:10.553320: I tensorflow/compiler/xla/service/service.cc:168] XLA service 0x13a3480 initialized for platform CUDA (this does not guarantee that XLA will be used). Devices:\n",
            "2020-11-12 07:42:10.553353: I tensorflow/compiler/xla/service/service.cc:176]   StreamExecutor device (0): Tesla P4, Compute Capability 6.1\n",
            "2020-11-12 07:42:10.554327: I tensorflow/stream_executor/cuda/cuda_gpu_executor.cc:982] successful NUMA node read from SysFS had negative value (-1), but there must be at least one NUMA node, so returning NUMA node zero\n",
            "2020-11-12 07:42:10.554768: I tensorflow/core/common_runtime/gpu/gpu_device.cc:1716] Found device 0 with properties: \n",
            "pciBusID: 0000:00:04.0 name: Tesla P4 computeCapability: 6.1\n",
            "coreClock: 1.1135GHz coreCount: 20 deviceMemorySize: 7.43GiB deviceMemoryBandwidth: 178.99GiB/s\n",
            "2020-11-12 07:42:10.554816: I tensorflow/stream_executor/platform/default/dso_loader.cc:48] Successfully opened dynamic library libcudart.so.10.1\n",
            "2020-11-12 07:42:10.554891: I tensorflow/stream_executor/platform/default/dso_loader.cc:48] Successfully opened dynamic library libcublas.so.10\n",
            "2020-11-12 07:42:10.554922: I tensorflow/stream_executor/platform/default/dso_loader.cc:48] Successfully opened dynamic library libcufft.so.10\n",
            "2020-11-12 07:42:10.554947: I tensorflow/stream_executor/platform/default/dso_loader.cc:48] Successfully opened dynamic library libcurand.so.10\n",
            "2020-11-12 07:42:10.554983: I tensorflow/stream_executor/platform/default/dso_loader.cc:48] Successfully opened dynamic library libcusolver.so.10\n",
            "2020-11-12 07:42:10.555006: I tensorflow/stream_executor/platform/default/dso_loader.cc:48] Successfully opened dynamic library libcusparse.so.10\n",
            "2020-11-12 07:42:10.555030: I tensorflow/stream_executor/platform/default/dso_loader.cc:48] Successfully opened dynamic library libcudnn.so.7\n",
            "2020-11-12 07:42:10.555117: I tensorflow/stream_executor/cuda/cuda_gpu_executor.cc:982] successful NUMA node read from SysFS had negative value (-1), but there must be at least one NUMA node, so returning NUMA node zero\n",
            "2020-11-12 07:42:10.555739: I tensorflow/stream_executor/cuda/cuda_gpu_executor.cc:982] successful NUMA node read from SysFS had negative value (-1), but there must be at least one NUMA node, so returning NUMA node zero\n",
            "2020-11-12 07:42:10.556141: I tensorflow/core/common_runtime/gpu/gpu_device.cc:1858] Adding visible gpu devices: 0\n",
            "2020-11-12 07:42:10.558861: I tensorflow/stream_executor/platform/default/dso_loader.cc:48] Successfully opened dynamic library libcudart.so.10.1\n",
            "2020-11-12 07:42:14.603350: I tensorflow/core/common_runtime/gpu/gpu_device.cc:1257] Device interconnect StreamExecutor with strength 1 edge matrix:\n",
            "2020-11-12 07:42:14.603416: I tensorflow/core/common_runtime/gpu/gpu_device.cc:1263]      0 \n",
            "2020-11-12 07:42:14.603431: I tensorflow/core/common_runtime/gpu/gpu_device.cc:1276] 0:   N \n",
            "2020-11-12 07:42:14.608658: I tensorflow/stream_executor/cuda/cuda_gpu_executor.cc:982] successful NUMA node read from SysFS had negative value (-1), but there must be at least one NUMA node, so returning NUMA node zero\n",
            "2020-11-12 07:42:14.609141: I tensorflow/stream_executor/cuda/cuda_gpu_executor.cc:982] successful NUMA node read from SysFS had negative value (-1), but there must be at least one NUMA node, so returning NUMA node zero\n",
            "2020-11-12 07:42:14.609502: W tensorflow/core/common_runtime/gpu/gpu_bfc_allocator.cc:39] Overriding allow_growth setting because the TF_FORCE_GPU_ALLOW_GROWTH environment variable is set. Original config value was 0.\n",
            "2020-11-12 07:42:14.609546: I tensorflow/core/common_runtime/gpu/gpu_device.cc:1402] Created TensorFlow device (/job:localhost/replica:0/task:0/device:GPU:0 with 6960 MB memory) -> physical GPU (device: 0, name: Tesla P4, pci bus id: 0000:00:04.0, compute capability: 6.1)\n",
            "Downloading data from https://storage.googleapis.com/tensorflow/keras-applications/vgg16/vgg16_weights_tf_dim_ordering_tf_kernels_notop.h5\n",
            "58892288/58889256 [==============================] - 2s 0us/step\n",
            "[INFO] compiling model...\n",
            "[INFO] training head...\n",
            "WARNING:tensorflow:From train_covid19.py:120: Model.fit_generator (from tensorflow.python.keras.engine.training) is deprecated and will be removed in a future version.\n",
            "Instructions for updating:\n",
            "Please use Model.fit, which supports generators.\n",
            "Epoch 1/25\n",
            "2020-11-12 07:42:17.772021: I tensorflow/stream_executor/platform/default/dso_loader.cc:48] Successfully opened dynamic library libcublas.so.10\n",
            "2020-11-12 07:42:19.387298: I tensorflow/stream_executor/platform/default/dso_loader.cc:48] Successfully opened dynamic library libcudnn.so.7\n",
            "5/5 [==============================] - 1s 292ms/step - loss: 0.8612 - accuracy: 0.5000 - val_loss: 0.6635 - val_accuracy: 0.7000\n",
            "Epoch 2/25\n",
            "5/5 [==============================] - 0s 93ms/step - loss: 0.7980 - accuracy: 0.4500 - val_loss: 0.6595 - val_accuracy: 0.6000\n",
            "Epoch 3/25\n",
            "5/5 [==============================] - 0s 92ms/step - loss: 0.6623 - accuracy: 0.6250 - val_loss: 0.6509 - val_accuracy: 0.6000\n",
            "Epoch 4/25\n",
            "5/5 [==============================] - 0s 94ms/step - loss: 0.6504 - accuracy: 0.6250 - val_loss: 0.6197 - val_accuracy: 0.6000\n",
            "Epoch 5/25\n",
            "5/5 [==============================] - 0s 91ms/step - loss: 0.6290 - accuracy: 0.6250 - val_loss: 0.6135 - val_accuracy: 0.7000\n",
            "Epoch 6/25\n",
            "5/5 [==============================] - 0s 93ms/step - loss: 0.6422 - accuracy: 0.6250 - val_loss: 0.5973 - val_accuracy: 0.6000\n",
            "Epoch 7/25\n",
            "5/5 [==============================] - 0s 90ms/step - loss: 0.5678 - accuracy: 0.7000 - val_loss: 0.5784 - val_accuracy: 0.8000\n",
            "Epoch 8/25\n",
            "5/5 [==============================] - 0s 94ms/step - loss: 0.5705 - accuracy: 0.6750 - val_loss: 0.5640 - val_accuracy: 0.7000\n",
            "Epoch 9/25\n",
            "5/5 [==============================] - 0s 92ms/step - loss: 0.5849 - accuracy: 0.7500 - val_loss: 0.5599 - val_accuracy: 0.6000\n",
            "Epoch 10/25\n",
            "5/5 [==============================] - 0s 88ms/step - loss: 0.5359 - accuracy: 0.7250 - val_loss: 0.5390 - val_accuracy: 0.7000\n",
            "Epoch 11/25\n",
            "5/5 [==============================] - 0s 90ms/step - loss: 0.5315 - accuracy: 0.7750 - val_loss: 0.5244 - val_accuracy: 0.8000\n",
            "Epoch 12/25\n",
            "5/5 [==============================] - 0s 93ms/step - loss: 0.4802 - accuracy: 0.7750 - val_loss: 0.5118 - val_accuracy: 0.8000\n",
            "Epoch 13/25\n",
            "5/5 [==============================] - 0s 90ms/step - loss: 0.4916 - accuracy: 0.8250 - val_loss: 0.4998 - val_accuracy: 0.8000\n",
            "Epoch 14/25\n",
            "5/5 [==============================] - 0s 92ms/step - loss: 0.4640 - accuracy: 0.8500 - val_loss: 0.4887 - val_accuracy: 0.8000\n",
            "Epoch 15/25\n",
            "5/5 [==============================] - 0s 91ms/step - loss: 0.4345 - accuracy: 0.8500 - val_loss: 0.4816 - val_accuracy: 0.8000\n",
            "Epoch 16/25\n",
            "5/5 [==============================] - 0s 92ms/step - loss: 0.4259 - accuracy: 0.8500 - val_loss: 0.4665 - val_accuracy: 0.8000\n",
            "Epoch 17/25\n",
            "5/5 [==============================] - 0s 93ms/step - loss: 0.4039 - accuracy: 0.9000 - val_loss: 0.4657 - val_accuracy: 0.8000\n",
            "Epoch 18/25\n",
            "5/5 [==============================] - 0s 91ms/step - loss: 0.3853 - accuracy: 0.8750 - val_loss: 0.4458 - val_accuracy: 0.8000\n",
            "Epoch 19/25\n",
            "5/5 [==============================] - 0s 92ms/step - loss: 0.4111 - accuracy: 0.8000 - val_loss: 0.4339 - val_accuracy: 0.8000\n",
            "Epoch 20/25\n",
            "5/5 [==============================] - 0s 92ms/step - loss: 0.4051 - accuracy: 0.8750 - val_loss: 0.4248 - val_accuracy: 0.8000\n",
            "Epoch 21/25\n",
            "5/5 [==============================] - 0s 92ms/step - loss: 0.3676 - accuracy: 0.9000 - val_loss: 0.4221 - val_accuracy: 0.8000\n",
            "Epoch 22/25\n",
            "5/5 [==============================] - 0s 92ms/step - loss: 0.3179 - accuracy: 0.9000 - val_loss: 0.4125 - val_accuracy: 0.8000\n",
            "Epoch 23/25\n",
            "5/5 [==============================] - 0s 92ms/step - loss: 0.3806 - accuracy: 0.8500 - val_loss: 0.4100 - val_accuracy: 0.8000\n",
            "Epoch 24/25\n",
            "5/5 [==============================] - 0s 93ms/step - loss: 0.3357 - accuracy: 0.9000 - val_loss: 0.3967 - val_accuracy: 0.8000\n",
            "Epoch 25/25\n",
            "5/5 [==============================] - 0s 94ms/step - loss: 0.3541 - accuracy: 0.8500 - val_loss: 0.3945 - val_accuracy: 0.8000\n",
            "[INFO] evaluating network...\n",
            "              precision    recall  f1-score   support\n",
            "\n",
            "       covid       0.80      0.80      0.80         5\n",
            "      normal       0.80      0.80      0.80         5\n",
            "\n",
            "    accuracy                           0.80        10\n",
            "   macro avg       0.80      0.80      0.80        10\n",
            "weighted avg       0.80      0.80      0.80        10\n",
            "\n",
            "[[4 1]\n",
            " [1 4]]\n",
            "acc: 0.8000\n",
            "sensitivity: 0.8000\n",
            "specificity: 0.8000\n",
            "[INFO] saving COVID-19 detector model...\n"
          ],
          "name": "stdout"
        }
      ]
    }
  ]
}